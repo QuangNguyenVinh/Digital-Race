{
  "nbformat": 4,
  "nbformat_minor": 0,
  "metadata": {
    "colab": {
      "name": "Seg Local",
      "provenance": [],
      "collapsed_sections": [],
      "toc_visible": true
    },
    "kernelspec": {
      "name": "python3",
      "display_name": "Python 3"
    },
    "accelerator": "GPU"
  },
  "cells": [
    {
      "cell_type": "code",
      "metadata": {
        "id": "hl5HdDFf6W8m",
        "colab_type": "code",
        "colab": {}
      },
      "source": [
        "!pip3 uninstall keras\n",
        "!pip3 install keras==2.2.4"
      ],
      "execution_count": null,
      "outputs": []
    },
    {
      "cell_type": "code",
      "metadata": {
        "id": "hfGMsinu6ezl",
        "colab_type": "code",
        "colab": {}
      },
      "source": [
        "!pip3 uninstall tensorflow\n",
        "!pip3 install tensorflow-gpu==1.14"
      ],
      "execution_count": null,
      "outputs": []
    },
    {
      "cell_type": "code",
      "metadata": {
        "id": "1nsV2Okt6kgU",
        "colab_type": "code",
        "colab": {}
      },
      "source": [
        "import numpy as np\n",
        "import matplotlib.pyplot as plt\n",
        "from keras.models import Sequential\n",
        "from keras.layers import Dense\n",
        "from keras.optimizers import Adam\n",
        "from keras.utils.np_utils import to_categorical\n",
        "from keras.layers import Dropout, Flatten\n",
        "from keras.layers.convolutional import Conv2D, MaxPooling2D\n",
        "import cv2\n",
        "from sklearn.model_selection import train_test_split\n",
        "import pickle\n",
        "import os\n",
        "import pandas as pd\n",
        "import random\n",
        "from keras.preprocessing.image import ImageDataGenerator\n",
        "from keras.callbacks import ModelCheckpoint, EarlyStopping,ReduceLROnPlateau\n"
      ],
      "execution_count": null,
      "outputs": []
    },
    {
      "cell_type": "code",
      "metadata": {
        "id": "oUbRzjqX7DDb",
        "colab_type": "code",
        "colab": {}
      },
      "source": [
        "!cp '/content/drive/My Drive/GG SSD/train_0506.zip' /content/"
      ],
      "execution_count": null,
      "outputs": []
    },
    {
      "cell_type": "code",
      "metadata": {
        "id": "a3MKV5yWLGEX",
        "colab_type": "code",
        "colab": {}
      },
      "source": [
        "!unzip train_0506.zip"
      ],
      "execution_count": null,
      "outputs": []
    },
    {
      "cell_type": "code",
      "metadata": {
        "id": "8usm6v4n7K3R",
        "colab_type": "code",
        "colab": {}
      },
      "source": [
        "################# Parameters #####################\n",
        "path = \"Train\" # folder with all the class folders\n",
        "imageDimesions = (32,32,3)\n",
        "testRatio = 0.2    # if 1000 images split will 200 for testing\n",
        "validationRatio = 0.2 # if 1000 images 20% of remaining 800 will be 160 for validation\n",
        "##############################################c\n",
        "#####"
      ],
      "execution_count": null,
      "outputs": []
    },
    {
      "cell_type": "code",
      "metadata": {
        "id": "dVAmYkd48OoV",
        "colab_type": "code",
        "colab": {}
      },
      "source": [
        "!rm '/content/Train/.DS_Store'"
      ],
      "execution_count": null,
      "outputs": []
    },
    {
      "cell_type": "code",
      "metadata": {
        "id": "6GhzFhYo7lOH",
        "colab_type": "code",
        "colab": {
          "base_uri": "https://localhost:8080/",
          "height": 85
        },
        "outputId": "fca828f1-7e87-4603-fec5-e817157dc38b"
      },
      "source": [
        "############################### Importing of the Images\n",
        "count = 0\n",
        "images = []\n",
        "classNo = []\n",
        "myList = os.listdir(path)\n",
        "print(myList)\n",
        "print(\"Total Classes Detected:\",len(myList))\n",
        "noOfClasses=len(myList)\n",
        "print(\"Importing Classes.....\")\n",
        "for x in range (0,len(myList)):\n",
        "    myPicList = os.listdir(path+\"/\"+str(count))\n",
        "    for y in myPicList:\n",
        "        curImg = cv2.imread(path+\"/\"+str(count)+\"/\"+y)\n",
        "        curImg = cv2.resize(curImg,(32,32))\n",
        "        #cv2_imshow(curImg)\n",
        "        images.append(curImg)\n",
        "        classNo.append(count)\n",
        "    print(count, end =\" \")\n",
        "    count +=1\n",
        "print(\" \")\n",
        "images = np.array(images)\n",
        "classNo = np.array(classNo)"
      ],
      "execution_count": null,
      "outputs": [
        {
          "output_type": "stream",
          "text": [
            "['3', '5', '4', '2', '0', '1']\n",
            "Total Classes Detected: 6\n",
            "Importing Classes.....\n",
            "0 1 2 3 4 5  \n"
          ],
          "name": "stdout"
        }
      ]
    },
    {
      "cell_type": "code",
      "metadata": {
        "id": "9-iQq9s48dQM",
        "colab_type": "code",
        "colab": {
          "base_uri": "https://localhost:8080/",
          "height": 151
        },
        "outputId": "84cff1fd-0fe4-4b0c-c642-6c28420b4028"
      },
      "source": [
        "from google.colab.patches import cv2_imshow\n",
        "import math\n",
        "############################### Split Data\n",
        "X_train, X_validation, y_train, y_validation = train_test_split(images, classNo, test_size=testRatio)\n",
        "# X_train, X_validation, y_train, y_validation = train_test_split(X_train, y_train, test_size=validationRatio)\n",
        " \n",
        "cv2_imshow(X_train[3])\n",
        "print(y_train[3])\n",
        "# X_train = ARRAY OF IMAGES TO TRAIN\n",
        "# y_train = CORRESPONDING CLASS ID\n",
        "total_images_train = X_train.shape[0]\n",
        "total_images_test = X_validation.shape[0]\n",
        "batch_size = 32\n",
        "steps_per_epoch_train = math.ceil(total_images_train / batch_size)\n",
        "print(\"Steps per epoch:\",steps_per_epoch_train)\n",
        "steps_per_epoch_test = math.ceil(total_images_test / batch_size)\n",
        "\n",
        "############################### TO CHECK IF NUMBER OF IMAGES MATCHES TO NUMBER OF LABELS FOR EACH DATA SET\n",
        "print(\"Data Shapes\")\n",
        "print(\"Train\",end = \"\");print(X_train.shape,y_train.shape)\n",
        "print(\"Validation\",end = \"\");print(X_validation.shape,y_validation.shape)\n",
        "#print(\"Test\",end = \"\");print(X_validation.shape,y_validation.shape)\n",
        "assert(X_train.shape[0]==y_train.shape[0]), \"The number of images in not equal to the number of lables in training set\"\n",
        "assert(X_validation.shape[0]==y_validation.shape[0]), \"The number of images in not equal to the number of lables in validation set\"\n",
        "#assert(X_test.shape[0]==y_test.shape[0]), \"The number of images in not equal to the number of lables in test set\"\n",
        "assert(X_train.shape[1:]==(imageDimesions)),\" The dimesions of the Training images are wrong \"\n",
        "assert(X_validation.shape[1:]==(imageDimesions)),\" The dimesionas of the Validation images are wrong \"\n",
        "#assert(X_test.shape[1:]==(imageDimesions)),\" The dimesionas of the Test images are wrong\""
      ],
      "execution_count": null,
      "outputs": [
        {
          "output_type": "display_data",
          "data": {
            "image/png": "[encoded data removed]",
            "text/plain": [
              "<PIL.Image.Image image mode=RGB size=32x32 at 0x7F8E3080E630>"
            ]
          },
          "metadata": {
            "tags": []
          }
        },
        {
          "output_type": "stream",
          "text": [
            "0\n",
            "Steps per epoch: 768\n",
            "Data Shapes\n",
            "Train(24564, 32, 32, 3) (24564,)\n",
            "Validation(6142, 32, 32, 3) (6142,)\n",
            "data shape  (6, 2) <class 'pandas.core.frame.DataFrame'>\n"
          ],
          "name": "stdout"
        }
      ]
    },
    {
      "cell_type": "code",
      "metadata": {
        "id": "M0yBP1IA9HJI",
        "colab_type": "code",
        "colab": {}
      },
      "source": [
        "############################### PREPROCESSING THE IMAGES\n",
        "def grayscale(img):\n",
        "    img = cv2.cvtColor(img,cv2.COLOR_BGR2GRAY)\n",
        "    return img\n",
        "def equalize(img):\n",
        "    img =cv2.equalizeHist(img)\n",
        "    return img\n",
        "def preprocessing(img):\n",
        "    img = grayscale(img)     # CONVERT TO GRAYSCALE\n",
        "    img = equalize(img)      # STANDARDIZE THE LIGHTING IN AN IMAGE\n",
        "    img = img/255            # TO NORMALIZE VALUES BETWEEN 0 AND 1 INSTEAD OF 0 TO 255\n",
        "    return img\n",
        "    "
      ],
      "execution_count": null,
      "outputs": []
    },
    {
      "cell_type": "code",
      "metadata": {
        "id": "VAEavCOO9NPe",
        "colab_type": "code",
        "colab": {
          "base_uri": "https://localhost:8080/",
          "height": 49
        },
        "outputId": "3de24921-a365-41f9-cc39-460b1b01aed2"
      },
      "source": [
        "cv2_imshow(X_train[random.randint(0,len(X_train)-1)]) # TO CHECK IF THE TRAINING IS DONE PROPERLY\n",
        "\n",
        "X_train=np.array(list(map(preprocessing,X_train)))  # TO IRETATE AND PREPROCESS ALL IMAGES\n",
        "X_validation=np.array(list(map(preprocessing,X_validation)))\n",
        "#X_test=np.array(list(map(preprocessing,X_test)))\n",
        "\n",
        "\n",
        "############################### ADD A DEPTH OF 1\n",
        "X_train=X_train.reshape(X_train.shape[0],X_train.shape[1],X_train.shape[2],1)\n",
        "X_validation=X_validation.reshape(X_validation.shape[0],X_validation.shape[1],X_validation.shape[2],1)\n",
        "#X_test=X_test.reshape(X_test.shape[0],X_test.shape[1],X_test.shape[2],1)"
      ],
      "execution_count": null,
      "outputs": [
        {
          "output_type": "display_data",
          "data": {
            "image/png": "[encoded data removed]",
            "text/plain": [
              "<PIL.Image.Image image mode=RGB size=32x32 at 0x7F8E3058A4A8>"
            ]
          },
          "metadata": {
            "tags": []
          }
        }
      ]
    },
    {
      "cell_type": "code",
      "metadata": {
        "id": "q8C07GVI_XGY",
        "colab_type": "code",
        "colab": {
          "base_uri": "https://localhost:8080/",
          "height": 59
        },
        "outputId": "9249acc8-2361-4412-9f3a-f6f6992a021c"
      },
      "source": [
        "############################### AUGMENTATAION OF IMAGES: TO MAKEIT MORE GENERIC\n",
        "dataGen= ImageDataGenerator(featurewise_center=False,\n",
        "                            featurewise_std_normalization=False,\n",
        "                            width_shift_range=0.1,   # 0.1 = 10%     IF MORE THAN 1 E.G 10 THEN IT REFFERS TO NO. OF  PIXELS EG 10 PIXELS\n",
        "                            height_shift_range=0.1,\n",
        "                            zoom_range=0.2,  # 0.2 MEANS CAN GO FROM 0.8 TO 1.2\n",
        "                            shear_range=0.1,  # MAGNITUDE OF SHEAR ANGLE\n",
        "                            rotation_range=10)\n",
        "                            # brightness_range=[0.8,1.2])  # DEGREES\n",
        "dataGen.fit(X_train)\n",
        "batches= dataGen.flow(X_train,y_train,batch_size=batch_size)  # REQUESTING DATA GENRATOR TO GENERATE IMAGES  BATCH SIZE = NO. OF IMAGES CREAED EACH TIME ITS CALLED\n",
        "X_batch,y_batch = next(batches)\n",
        " \n",
        "# TO SHOW AGMENTED IMAGE SAMPLES\n",
        "fig,axs=plt.subplots(1,15,figsize=(20,5))\n",
        "fig.tight_layout()\n",
        " \n",
        "for i in range(15):\n",
        "    axs[i].imshow(X_batch[i].reshape(imageDimesions[0],imageDimesions[1]))\n",
        "    axs[i].axis('off')\n",
        "plt.show()\n",
        " \n",
        " \n",
        "y_train = to_categorical(y_train,noOfClasses)\n",
        "y_validation = to_categorical(y_validation,noOfClasses)\n",
        "#y_test = to_categorical(y_test,noOfClasses)"
      ],
      "execution_count": null,
      "outputs": [
        {
          "output_type": "display_data",
          "data": {
            "image/png": "[encoded data removed]",
            "text/plain": [
              "<Figure size 1440x360 with 15 Axes>"
            ]
          },
          "metadata": {
            "tags": [],
            "needs_background": "light"
          }
        }
      ]
    },
    {
      "cell_type": "code",
      "metadata": {
        "id": "U9ZVJY94AAVV",
        "colab_type": "code",
        "colab": {
          "base_uri": "https://localhost:8080/",
          "height": 768
        },
        "outputId": "56c6dc8d-7bee-4a6d-cd42-982d914751ac"
      },
      "source": [
        "############################### CONVOLUTION NEURAL NETWORK MODEL\n",
        "IMG_SIZE = 32\n",
        "NUM_CLASSES = 6\n",
        "def myModel():\n",
        "    no_Of_Filters=32\n",
        "    size_of_Filter=(5,5) # THIS IS THE KERNEL THAT MOVE AROUND THE IMAGE TO GET THE FEATURES.\n",
        "                         # THIS WOULD REMOVE 2 PIXELS FROM EACH BORDER WHEN USING 32 32 IMAGE\n",
        "    size_of_Filter2=(3,3)\n",
        "    size_of_pool=(2,2)  # SCALE DOWN ALL FEATURE MAP TO GERNALIZE MORE, TO REDUCE OVERFITTING\n",
        "    no_Of_Nodes = 1024   # NO. OF NODES IN HIDDEN LAYERS\n",
        "    model= Sequential()\n",
        "    model.add((Conv2D(32,size_of_Filter,input_shape=(imageDimesions[0],imageDimesions[1],1),activation='relu')))  # ADDING MORE CONVOLUTION LAYERS = LESS FEATURES BUT CAN CAUSE ACCURACY TO INCREASE\n",
        "    model.add((Conv2D(no_Of_Filters, size_of_Filter, activation='relu')))\n",
        "    model.add(MaxPooling2D(pool_size=size_of_pool)) # DOES NOT EFFECT THE DEPTH/NO OF FILTERS\n",
        " \n",
        "    model.add((Conv2D(no_Of_Filters //2, size_of_Filter2,activation='relu')))\n",
        "    model.add((Conv2D(no_Of_Filters // 2, size_of_Filter2, activation='relu')))\n",
        "    model.add(MaxPooling2D(pool_size=size_of_pool))\n",
        "    #model.add(Dropout(0.5))\n",
        " \n",
        "    model.add(Flatten())\n",
        "    model.add(Dense(no_Of_Nodes,activation='relu'))\n",
        "    #model.add(Dropout(0.5)) # INPUTS NODES TO DROP WITH EACH UPDATE 1 ALL 0 NONE\n",
        "    model.add(Dense(noOfClasses,activation='softmax')) # OUTPUT LAYER\n",
        "    # COMPILE MODEL\n",
        "    model.compile(Adam(lr=0.001),loss='categorical_crossentropy',metrics=['accuracy'])\n",
        "    return model\n",
        "def cnn_model():\n",
        "    model = Sequential()\n",
        "\n",
        "    model.add(Conv2D(32, (3, 3), padding='same',\n",
        "                     input_shape=(32, 32, 1),\n",
        "                     activation='relu'))\n",
        "    model.add(Conv2D(32, (3, 3), activation='relu'))\n",
        "    model.add(MaxPooling2D(pool_size=(2, 2)))\n",
        "    model.add(Dropout(0.2))\n",
        "\n",
        "    model.add(Conv2D(64, (3, 3), padding='same',\n",
        "                     activation='relu'))\n",
        "    model.add(Conv2D(64, (3, 3), activation='relu'))\n",
        "    model.add(MaxPooling2D(pool_size=(2, 2)))\n",
        "    model.add(Dropout(0.2))\n",
        "\n",
        "    model.add(Conv2D(128, (3, 3), padding='same',\n",
        "                     activation='relu'))\n",
        "    model.add(Conv2D(128, (3, 3), activation='relu'))\n",
        "    model.add(MaxPooling2D(pool_size=(2, 2)))\n",
        "    model.add(Dropout(0.2))\n",
        "\n",
        "    model.add(Flatten())\n",
        "    model.add(Dense(512, activation='relu'))\n",
        "    model.add(Dropout(0.5))\n",
        "    model.add(Dense(6, activation='softmax'))\n",
        "    model.compile(Adam(lr=0.001),loss='categorical_crossentropy',metrics=['accuracy'])\n",
        "\n",
        "    return model\n",
        "\n",
        "############################### TRAIN\n",
        "model = cnn_model()\n",
        "print(model.summary())\n"
      ],
      "execution_count": null,
      "outputs": [
        {
          "output_type": "stream",
          "text": [
            "WARNING:tensorflow:From /usr/local/lib/python3.6/dist-packages/keras/backend/tensorflow_backend.py:4070: The name tf.nn.max_pool is deprecated. Please use tf.nn.max_pool2d instead.\n",
            "\n",
            "Model: \"sequential_1\"\n",
            "_________________________________________________________________\n",
            "Layer (type)                 Output Shape              Param #   \n",
            "=================================================================\n",
            "conv2d_1 (Conv2D)            (None, 32, 32, 32)        320       \n",
            "_________________________________________________________________\n",
            "conv2d_2 (Conv2D)            (None, 30, 30, 32)        9248      \n",
            "_________________________________________________________________\n",
            "max_pooling2d_1 (MaxPooling2 (None, 15, 15, 32)        0         \n",
            "_________________________________________________________________\n",
            "dropout_1 (Dropout)          (None, 15, 15, 32)        0         \n",
            "_________________________________________________________________\n",
            "conv2d_3 (Conv2D)            (None, 15, 15, 64)        18496     \n",
            "_________________________________________________________________\n",
            "conv2d_4 (Conv2D)            (None, 13, 13, 64)        36928     \n",
            "_________________________________________________________________\n",
            "max_pooling2d_2 (MaxPooling2 (None, 6, 6, 64)          0         \n",
            "_________________________________________________________________\n",
            "dropout_2 (Dropout)          (None, 6, 6, 64)          0         \n",
            "_________________________________________________________________\n",
            "conv2d_5 (Conv2D)            (None, 6, 6, 128)         73856     \n",
            "_________________________________________________________________\n",
            "conv2d_6 (Conv2D)            (None, 4, 4, 128)         147584    \n",
            "_________________________________________________________________\n",
            "max_pooling2d_3 (MaxPooling2 (None, 2, 2, 128)         0         \n",
            "_________________________________________________________________\n",
            "dropout_3 (Dropout)          (None, 2, 2, 128)         0         \n",
            "_________________________________________________________________\n",
            "flatten_1 (Flatten)          (None, 512)               0         \n",
            "_________________________________________________________________\n",
            "dense_1 (Dense)              (None, 512)               262656    \n",
            "_________________________________________________________________\n",
            "dropout_4 (Dropout)          (None, 512)               0         \n",
            "_________________________________________________________________\n",
            "dense_2 (Dense)              (None, 6)                 3078      \n",
            "=================================================================\n",
            "Total params: 552,166\n",
            "Trainable params: 552,166\n",
            "Non-trainable params: 0\n",
            "_________________________________________________________________\n",
            "None\n"
          ],
          "name": "stdout"
        }
      ]
    },
    {
      "cell_type": "code",
      "metadata": {
        "id": "bqfWqMtCAAn5",
        "colab_type": "code",
        "colab": {
          "base_uri": "https://localhost:8080/",
          "height": 1000
        },
        "outputId": "1aef3b7f-ab75-4f9b-9222-c4a3c216e50b"
      },
      "source": [
        "epochs = 1000\n",
        "\n",
        "model_checkpoint = ModelCheckpoint(mode='auto', filepath='./Seg_Local-{epoch:03d}_loss-{loss:.4f}_val_loss-{val_loss:.4f}.h5', \n",
        "                      monitor='val_loss', \n",
        "                      save_best_only='True', \n",
        "                      save_weights_only='True', \n",
        "                      period=1,\n",
        "                      verbose=1)\n",
        "early_stopping = EarlyStopping(monitor='val_loss',\n",
        "                                min_delta=0.0,\n",
        "                                patience=10,\n",
        "                                verbose=1)\n",
        "reduce_learning_rate = ReduceLROnPlateau(monitor='val_loss',\n",
        "                                          factor=0.2,\n",
        "                                          patience=6,\n",
        "                                          verbose=1,\n",
        "                                          epsilon=0.001,\n",
        "                                          cooldown=0,\n",
        "                                          min_lr=0.00001)\n",
        "callbacks = [model_checkpoint, early_stopping ,reduce_learning_rate]\n",
        "\n",
        "print(\"Batch size\",batch_size,\"Steps per Epoch: \",steps_per_epoch_train)\n",
        "\n",
        "history = model.fit_generator(dataGen.flow(X_train,y_train,batch_size=batch_size),steps_per_epoch=steps_per_epoch_train,epochs=epochs,validation_data=(X_validation,y_validation),shuffle=True,callbacks=callbacks)\n",
        " "
      ],
      "execution_count": null,
      "outputs": [
        {
          "output_type": "stream",
          "text": [
            "/usr/local/lib/python3.6/dist-packages/keras/callbacks/callbacks.py:998: UserWarning: `epsilon` argument is deprecated and will be removed, use `min_delta` instead.\n",
            "  warnings.warn('`epsilon` argument is deprecated and '\n"
          ],
          "name": "stderr"
        },
        {
          "output_type": "stream",
          "text": [
            "Batch size 32 Steps per Epoch:  768\n",
            "WARNING:tensorflow:From /usr/local/lib/python3.6/dist-packages/keras/backend/tensorflow_backend.py:422: The name tf.global_variables is deprecated. Please use tf.compat.v1.global_variables instead.\n",
            "\n",
            "Epoch 1/1000\n",
            "768/768 [==============================] - 24s 32ms/step - loss: 0.3366 - accuracy: 0.8717 - val_loss: 0.0137 - val_accuracy: 0.9956\n",
            "\n",
            "Epoch 00001: val_loss improved from inf to 0.01366, saving model to ./Seg_Local-001_loss-0.3363_val_loss-0.0137.h5\n",
            "Epoch 2/1000\n",
            "768/768 [==============================] - 19s 25ms/step - loss: 0.0454 - accuracy: 0.9860 - val_loss: 0.0064 - val_accuracy: 0.9985\n",
            "\n",
            "Epoch 00002: val_loss improved from 0.01366 to 0.00642, saving model to ./Seg_Local-002_loss-0.0453_val_loss-0.0064.h5\n",
            "Epoch 3/1000\n",
            "768/768 [==============================] - 19s 25ms/step - loss: 0.0340 - accuracy: 0.9898 - val_loss: 0.0063 - val_accuracy: 0.9982\n",
            "\n",
            "Epoch 00003: val_loss improved from 0.00642 to 0.00632, saving model to ./Seg_Local-003_loss-0.0338_val_loss-0.0063.h5\n",
            "Epoch 4/1000\n",
            "768/768 [==============================] - 19s 25ms/step - loss: 0.0247 - accuracy: 0.9931 - val_loss: 0.0046 - val_accuracy: 0.9985\n",
            "\n",
            "Epoch 00004: val_loss improved from 0.00632 to 0.00460, saving model to ./Seg_Local-004_loss-0.0247_val_loss-0.0046.h5\n",
            "Epoch 5/1000\n",
            "768/768 [==============================] - 19s 24ms/step - loss: 0.0248 - accuracy: 0.9937 - val_loss: 0.0041 - val_accuracy: 0.9989\n",
            "\n",
            "Epoch 00005: val_loss improved from 0.00460 to 0.00408, saving model to ./Seg_Local-005_loss-0.0248_val_loss-0.0041.h5\n",
            "Epoch 6/1000\n",
            "768/768 [==============================] - 19s 25ms/step - loss: 0.0219 - accuracy: 0.9944 - val_loss: 0.0051 - val_accuracy: 0.9989\n",
            "\n",
            "Epoch 00006: val_loss did not improve from 0.00408\n",
            "Epoch 7/1000\n",
            "768/768 [==============================] - 18s 24ms/step - loss: 0.0213 - accuracy: 0.9945 - val_loss: 0.0023 - val_accuracy: 0.9989\n",
            "\n",
            "Epoch 00007: val_loss improved from 0.00408 to 0.00227, saving model to ./Seg_Local-007_loss-0.0213_val_loss-0.0023.h5\n",
            "Epoch 8/1000\n",
            "768/768 [==============================] - 19s 24ms/step - loss: 0.0189 - accuracy: 0.9954 - val_loss: 0.0033 - val_accuracy: 0.9992\n",
            "\n",
            "Epoch 00008: val_loss did not improve from 0.00227\n",
            "Epoch 9/1000\n",
            "768/768 [==============================] - 19s 25ms/step - loss: 0.0155 - accuracy: 0.9955 - val_loss: 0.0025 - val_accuracy: 0.9990\n",
            "\n",
            "Epoch 00009: val_loss did not improve from 0.00227\n",
            "Epoch 10/1000\n",
            "768/768 [==============================] - 19s 25ms/step - loss: 0.0187 - accuracy: 0.9950 - val_loss: 0.0034 - val_accuracy: 0.9989\n",
            "\n",
            "Epoch 00010: val_loss did not improve from 0.00227\n",
            "Epoch 11/1000\n",
            "768/768 [==============================] - 19s 24ms/step - loss: 0.0131 - accuracy: 0.9967 - val_loss: 0.0043 - val_accuracy: 0.9989\n",
            "\n",
            "Epoch 00011: val_loss did not improve from 0.00227\n",
            "Epoch 12/1000\n",
            "768/768 [==============================] - 18s 24ms/step - loss: 0.0165 - accuracy: 0.9956 - val_loss: 0.0021 - val_accuracy: 0.9993\n",
            "\n",
            "Epoch 00012: val_loss improved from 0.00227 to 0.00207, saving model to ./Seg_Local-012_loss-0.0165_val_loss-0.0021.h5\n",
            "Epoch 13/1000\n",
            "768/768 [==============================] - 19s 24ms/step - loss: 0.0170 - accuracy: 0.9958 - val_loss: 0.0028 - val_accuracy: 0.9987\n",
            "\n",
            "Epoch 00013: val_loss did not improve from 0.00207\n",
            "\n",
            "Epoch 00013: ReduceLROnPlateau reducing learning rate to 0.00020000000949949026.\n",
            "Epoch 14/1000\n",
            "768/768 [==============================] - 19s 24ms/step - loss: 0.0070 - accuracy: 0.9985 - val_loss: 0.0017 - val_accuracy: 0.9993\n",
            "\n",
            "Epoch 00014: val_loss improved from 0.00207 to 0.00173, saving model to ./Seg_Local-014_loss-0.0070_val_loss-0.0017.h5\n",
            "Epoch 15/1000\n",
            "768/768 [==============================] - 19s 25ms/step - loss: 0.0041 - accuracy: 0.9989 - val_loss: 0.0013 - val_accuracy: 0.9992\n",
            "\n",
            "Epoch 00015: val_loss improved from 0.00173 to 0.00127, saving model to ./Seg_Local-015_loss-0.0041_val_loss-0.0013.h5\n",
            "Epoch 16/1000\n",
            "768/768 [==============================] - 19s 25ms/step - loss: 0.0040 - accuracy: 0.9991 - val_loss: 0.0013 - val_accuracy: 0.9992\n",
            "\n",
            "Epoch 00016: val_loss did not improve from 0.00127\n",
            "Epoch 17/1000\n",
            "768/768 [==============================] - 18s 24ms/step - loss: 0.0038 - accuracy: 0.9989 - val_loss: 8.5622e-04 - val_accuracy: 0.9997\n",
            "\n",
            "Epoch 00017: val_loss improved from 0.00127 to 0.00086, saving model to ./Seg_Local-017_loss-0.0038_val_loss-0.0009.h5\n",
            "Epoch 18/1000\n",
            "768/768 [==============================] - 19s 24ms/step - loss: 0.0032 - accuracy: 0.9992 - val_loss: 3.8629e-04 - val_accuracy: 0.9998\n",
            "\n",
            "Epoch 00018: val_loss improved from 0.00086 to 0.00039, saving model to ./Seg_Local-018_loss-0.0032_val_loss-0.0004.h5\n",
            "Epoch 19/1000\n",
            "768/768 [==============================] - 19s 24ms/step - loss: 0.0026 - accuracy: 0.9993 - val_loss: 8.4030e-04 - val_accuracy: 0.9995\n",
            "\n",
            "Epoch 00019: val_loss did not improve from 0.00039\n",
            "Epoch 20/1000\n",
            "768/768 [==============================] - 19s 25ms/step - loss: 0.0024 - accuracy: 0.9991 - val_loss: 4.9381e-04 - val_accuracy: 0.9998\n",
            "\n",
            "Epoch 00020: val_loss did not improve from 0.00039\n",
            "Epoch 21/1000\n",
            "768/768 [==============================] - 19s 25ms/step - loss: 0.0033 - accuracy: 0.9992 - val_loss: 0.0013 - val_accuracy: 0.9992\n",
            "\n",
            "Epoch 00021: val_loss did not improve from 0.00039\n",
            "Epoch 22/1000\n",
            "768/768 [==============================] - 19s 24ms/step - loss: 0.0023 - accuracy: 0.9994 - val_loss: 8.9103e-04 - val_accuracy: 0.9995\n",
            "\n",
            "Epoch 00022: val_loss did not improve from 0.00039\n",
            "Epoch 23/1000\n",
            "768/768 [==============================] - 19s 25ms/step - loss: 0.0048 - accuracy: 0.9989 - val_loss: 0.0011 - val_accuracy: 0.9997\n",
            "\n",
            "Epoch 00023: val_loss did not improve from 0.00039\n",
            "\n",
            "Epoch 00023: ReduceLROnPlateau reducing learning rate to 4.0000001899898055e-05.\n",
            "Epoch 24/1000\n",
            "768/768 [==============================] - 19s 25ms/step - loss: 0.0032 - accuracy: 0.9991 - val_loss: 5.2070e-04 - val_accuracy: 0.9998\n",
            "\n",
            "Epoch 00024: val_loss did not improve from 0.00039\n",
            "Epoch 25/1000\n",
            "768/768 [==============================] - 19s 24ms/step - loss: 0.0017 - accuracy: 0.9995 - val_loss: 5.2556e-04 - val_accuracy: 0.9998\n",
            "\n",
            "Epoch 00025: val_loss did not improve from 0.00039\n",
            "Epoch 26/1000\n",
            "768/768 [==============================] - 19s 25ms/step - loss: 0.0017 - accuracy: 0.9994 - val_loss: 5.4657e-04 - val_accuracy: 0.9998\n",
            "\n",
            "Epoch 00026: val_loss did not improve from 0.00039\n",
            "Epoch 27/1000\n",
            "768/768 [==============================] - 19s 25ms/step - loss: 0.0017 - accuracy: 0.9996 - val_loss: 5.3981e-04 - val_accuracy: 0.9998\n",
            "\n",
            "Epoch 00027: val_loss did not improve from 0.00039\n",
            "Epoch 28/1000\n",
            "768/768 [==============================] - 19s 25ms/step - loss: 7.2281e-04 - accuracy: 0.9999 - val_loss: 4.5320e-04 - val_accuracy: 0.9998\n",
            "\n",
            "Epoch 00028: val_loss did not improve from 0.00039\n",
            "Epoch 00028: early stopping\n"
          ],
          "name": "stdout"
        }
      ]
    },
    {
      "cell_type": "code",
      "metadata": {
        "id": "Acs5Lo0-CnPh",
        "colab_type": "code",
        "colab": {
          "base_uri": "https://localhost:8080/",
          "height": 82
        },
        "outputId": "a6c918d4-37dc-46cc-9db3-05f7359b7423"
      },
      "source": [
        "def getCalssName(classNo):\n",
        "    if   classNo == 0: return 'Stop'\n",
        "    elif classNo == 1: return 'Right'\n",
        "    elif classNo == 2: return 'Left'\n",
        "    elif classNo == 3: return 'Straight'\n",
        "    elif classNo == 4: return 'No Left'\n",
        "    elif classNo == 5: return 'No Right'\n",
        "\n",
        "model.load_weights('/content/Seg_Local-018_loss-0.0032_val_loss-0.0004.h5')\n",
        "threshold=0.75\n",
        "imgOrignal = cv2.imread('/content/Screen Shot 2020-05-22 at 19.07.26.png')\n",
        "img = np.asarray(imgOrignal)\n",
        "img = cv2.resize(img, (32, 32))\n",
        "img = preprocessing(img)\n",
        "#cv2_imshow(img)\n",
        "img = img.reshape(1, 32, 32, 1)\n",
        "#cv2.putText(imgOrignal, \"CLASS: \" , (20, 35), cv2.FONT_HERSHEY_SIMPLEX , 0.75, (0, 0, 255), 2, cv2.LINE_AA)\n",
        "#cv2.putText(imgOrignal, \"PROBABILITY: \", (20, 75), cv2.FONT_HERSHEY_SIMPLEX , 0.75, (0, 0, 255), 2, cv2.LINE_AA)\n",
        "# PREDICT IMAGE\n",
        "predictions = model.predict(img)\n",
        "classIndex = model.predict_classes(img)\n",
        "probabilityValue =np.amax(predictions)\n",
        "print(\"SIGN: \",getCalssName(classIndex),\"\\tProbability: \", probabilityValue*100, \"%\")\n",
        "# if probabilityValue > threshold:\n",
        "#     cv2.putText(imgOrignal,str(classIndex)+\" \"+str(getCalssName(classIndex)), (120, 35), cv2.FONT_HERSHEY_SIMPLEX , 0.75, (0, 0, 255), 2, cv2.LINE_AA)\n",
        "#     cv2.putText(imgOrignal, str(round(probabilityValue*100,2) )+\"%\", (180, 75), cv2.FONT_HERSHEY_SIMPLEX , 0.75, (0, 0, 255), 2, cv2.LINE_AA)\n",
        "cv2_imshow(imgOrignal)"
      ],
      "execution_count": null,
      "outputs": [
        {
          "output_type": "stream",
          "text": [
            "SIGN:  Left \tProbability:  100.0 %\n"
          ],
          "name": "stdout"
        },
        {
          "output_type": "display_data",
          "data": {
            "image/png": "[encoded data removed]",
            "text/plain": [
              "<PIL.Image.Image image mode=RGB size=60x48 at 0x7F8E20140278>"
            ]
          },
          "metadata": {
            "tags": []
          }
        }
      ]
    },
    {
      "cell_type": "code",
      "metadata": {
        "id": "QctVYgGTCfkl",
        "colab_type": "code",
        "colab": {
          "base_uri": "https://localhost:8080/",
          "height": 102
        },
        "outputId": "6b574e4a-d0f3-455b-f2f3-859a9d76e35a"
      },
      "source": [
        "from keras import backend as K\n",
        "import tensorflow as tf\n",
        "print(model.outputs)\n",
        "print(model.inputs)\n",
        "def freeze_session(session, keep_var_names=None, output_names=None, clear_devices=True):\n",
        "    \"\"\"\n",
        "    Freezes the state of a session into a pruned computation graph.\n",
        "\n",
        "    Creates a new computation graph where variable nodes are replaced by\n",
        "    constants taking their current value in the session. The new graph will be\n",
        "    pruned so subgraphs that are not necessary to compute the requested\n",
        "    outputs are removed.\n",
        "    @param session The TensorFlow session to be frozen.\n",
        "    @param keep_var_names A list of variable names that should not be frozen,\n",
        "                          or None to freeze all the variables in the graph.\n",
        "    @param output_names Names of the relevant graph outputs.\n",
        "    @param clear_devices Remove the device directives from the graph for better portability.\n",
        "    @return The frozen graph definition.\n",
        "    \"\"\"\n",
        "    from tensorflow.python.framework.graph_util import convert_variables_to_constants\n",
        "    graph = session.graph\n",
        "    with graph.as_default():\n",
        "        freeze_var_names = list(set(v.op.name for v in tf.global_variables()).difference(keep_var_names or []))\n",
        "        output_names = output_names or []\n",
        "        output_names += [v.op.name for v in tf.global_variables()]\n",
        "        # Graph -> GraphDef ProtoBuf\n",
        "        input_graph_def = graph.as_graph_def()\n",
        "        if clear_devices:\n",
        "            for node in input_graph_def.node:\n",
        "                node.device = \"\"\n",
        "        frozen_graph = convert_variables_to_constants(session, input_graph_def,\n",
        "                                                      output_names, freeze_var_names)\n",
        "        return frozen_graph\n",
        "\n",
        "\n",
        "frozen_graph = freeze_session(K.get_session(),\n",
        "                              output_names=[out.op.name for out in model.outputs])\n",
        "# Save to ./model/tf_model.pb\n",
        "tf.train.write_graph(frozen_graph, \"model\", \"goodgame_cnn_0506.pb\", as_text=False)"
      ],
      "execution_count": null,
      "outputs": [
        {
          "output_type": "stream",
          "text": [
            "[<tf.Tensor 'dense_2/Softmax:0' shape=(?, 6) dtype=float32>]\n",
            "[<tf.Tensor 'conv2d_1_input:0' shape=(?, 32, 32, 1) dtype=float32>]\n",
            "INFO:tensorflow:Froze 71 variables.\n",
            "INFO:tensorflow:Converted 71 variables to const ops.\n"
          ],
          "name": "stdout"
        },
        {
          "output_type": "execute_result",
          "data": {
            "text/plain": [
              "'model/goodgame_cnn_0506.pb'"
            ]
          },
          "metadata": {
            "tags": []
          },
          "execution_count": 20
        }
      ]
    }
  ]
}